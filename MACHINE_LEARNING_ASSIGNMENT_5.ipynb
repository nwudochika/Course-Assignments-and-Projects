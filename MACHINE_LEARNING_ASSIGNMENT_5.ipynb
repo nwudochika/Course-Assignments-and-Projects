{
  "cells": [
    {
      "cell_type": "markdown",
      "metadata": {
        "id": "view-in-github",
        "colab_type": "text"
      },
      "source": [
        "<a href=\"https://colab.research.google.com/github/nwudochika/nwudo-cj/blob/main/MACHINE_LEARNING_ASSIGNMENT_5.ipynb\" target=\"_parent\"><img src=\"https://colab.research.google.com/assets/colab-badge.svg\" alt=\"Open In Colab\"/></a>"
      ]
    },
    {
      "cell_type": "markdown",
      "source": [
        "NWUDO CHIKAEZE FIDELIS JUNIOR\n",
        "STUDENT NUMBER: 202290064"
      ],
      "metadata": {
        "id": "atab-MuO8wpB"
      },
      "id": "atab-MuO8wpB"
    },
    {
      "cell_type": "markdown",
      "id": "c63cfa6d",
      "metadata": {
        "id": "c63cfa6d"
      },
      "source": [
        "train a classifier using each of the following:\n",
        "\n",
        "Decision Tree\n",
        "\n",
        "Ensemble of trees\n",
        "\n",
        "Random forest\n",
        "\n",
        "MLP Neural Network\n",
        "\n",
        "With 1 hidden layer\n",
        "\n",
        "With 2 hidden layers\n",
        "\n",
        "With 3 hidden layers\n",
        "\n",
        "You may experiment with choosing the other hyper-parameters for these models, however, anything that makes the model converge and work is sufficient for this exercise.\n",
        "\n",
        "Use cross-fold validation in order to evaluate the performance of each classifier on the dataset."
      ]
    },
    {
      "cell_type": "code",
      "execution_count": 1,
      "id": "2468ddf3",
      "metadata": {
        "id": "2468ddf3"
      },
      "outputs": [],
      "source": [
        "import numpy as np   \n",
        "import pandas as pd\n",
        "from sklearn.model_selection import train_test_split, GridSearchCV, KFold, cross_val_score\n",
        "from sklearn.ensemble import BaggingClassifier, RandomForestClassifier\n",
        "from sklearn.tree import DecisionTreeClassifier\n",
        "from sklearn.neural_network import MLPClassifier \n",
        "from sklearn.datasets import make_classification\n",
        "from sklearn.metrics import accuracy_score, confusion_matrix, plot_confusion_matrix,classification_report\n",
        "from sklearn import datasets\n",
        "import matplotlib.pyplot as plt\n",
        "from sklearn.linear_model import LogisticRegression\n",
        "from sklearn.neighbors import KNeighborsClassifier\n",
        "import warnings\n",
        "warnings.filterwarnings('ignore')\n",
        "import matplotlib.pyplot as plt\n",
        "from sklearn.exceptions import ConvergenceWarning\n",
        "from sklearn import metrics\n"
      ]
    },
    {
      "cell_type": "code",
      "execution_count": 2,
      "id": "281922ab",
      "metadata": {
        "colab": {
          "base_uri": "https://localhost:8080/"
        },
        "id": "281922ab",
        "outputId": "a4a3ecf9-8067-4961-9781-6e8ebdc636ef"
      },
      "outputs": [
        {
          "output_type": "stream",
          "name": "stdout",
          "text": [
            "Number of samples: (1797, 64)\n"
          ]
        }
      ],
      "source": [
        "# to apply a classifier on the dataset, we need to flattern the images.\n",
        "digits = datasets.load_digits()\n",
        "data = digits.images.reshape(digits.images.shape[0], -1)\n",
        "print(\"Number of samples:\", data.shape)"
      ]
    },
    {
      "cell_type": "code",
      "execution_count": 3,
      "id": "9757c717",
      "metadata": {
        "id": "9757c717"
      },
      "outputs": [],
      "source": [
        "# split the data into 50% train and 50% test subset\n",
        "X_train, X_test, y_train, y_test = train_test_split(data, digits.target, test_size=0.5)"
      ]
    },
    {
      "cell_type": "markdown",
      "id": "78a52342",
      "metadata": {
        "id": "78a52342"
      },
      "source": [
        "#### Decision Tree Classifier"
      ]
    },
    {
      "cell_type": "code",
      "execution_count": 4,
      "id": "ee38d343",
      "metadata": {
        "id": "ee38d343"
      },
      "outputs": [],
      "source": [
        "# Create a Decision Tree Classifier \n",
        "dt = DecisionTreeClassifier(random_state=123)"
      ]
    },
    {
      "cell_type": "code",
      "execution_count": 5,
      "metadata": {
        "colab": {
          "base_uri": "https://localhost:8080/",
          "height": 127
        },
        "outputId": "db5a67e3-5750-4c57-a18d-225236b0da3a",
        "id": "OBCtG3mtxrFD"
      },
      "outputs": [
        {
          "output_type": "display_data",
          "data": {
            "text/plain": [
              "<Figure size 720x216 with 6 Axes>"
            ],
            "image/png": "[encoded data removed]"
          },
          "metadata": {
            "needs_background": "light"
          }
        }
      ],
      "source": [
        "# learn the digits on the train subset\n",
        "dt.fit(X_train,y_train)\n",
        "\n",
        "# predict the value of the digit on the test subset\n",
        "predicted = dt.predict(X_test)\n",
        "\n",
        "# visualization of first 6 test samples and show their predicted digit value in the title\n",
        "_, axes = plt.subplots(nrows=1, ncols=6, figsize=(10, 3))\n",
        "for ax, image, prediction in zip(axes, X_test, predicted):\n",
        "    ax.set_axis_off()\n",
        "    image = image.reshape(8, 8)\n",
        "    ax.imshow(image, cmap=plt.cm.gray_r, interpolation=\"nearest\")\n",
        "    ax.set_title(f\"Prediction: {prediction}\")"
      ],
      "id": "OBCtG3mtxrFD"
    },
    {
      "cell_type": "code",
      "source": [
        "confusion_matrix = confusion_matrix(y_test, predicted)\n",
        "\n",
        "print(confusion_matrix)\n",
        "\n",
        "plt.matshow(confusion_matrix)\n",
        "\n",
        "plt.show()"
      ],
      "metadata": {
        "colab": {
          "base_uri": "https://localhost:8080/",
          "height": 449
        },
        "id": "2bGajK0Hx1nK",
        "outputId": "2744c16d-47ac-4768-da88-5cf809a9a9fe"
      },
      "id": "2bGajK0Hx1nK",
      "execution_count": 6,
      "outputs": [
        {
          "output_type": "stream",
          "name": "stdout",
          "text": [
            "[[79  0  0  0  2  7  0  0  0  3]\n",
            " [ 0 70  1  0  1  2  1  6  7  4]\n",
            " [ 0  2 74  3  0  4  1  4  0  0]\n",
            " [ 0  2  1 58  1  0  2  1 13  4]\n",
            " [ 3  3  0  0 77  2  1  6  0  2]\n",
            " [ 0  0  0  4  4 82  2  1  0  2]\n",
            " [ 0  2  0  0  1  0 86  0  1  0]\n",
            " [ 0  1  0  0  0  2  1 80  3  0]\n",
            " [ 0  3  7  5  4  0  0  1 66  3]\n",
            " [ 0  1  1  8  1  4  0  1  7 68]]\n"
          ]
        },
        {
          "output_type": "display_data",
          "data": {
            "text/plain": [
              "<Figure size 288x288 with 1 Axes>"
            ],
            "image/png": "[encoded data removed]"
          },
          "metadata": {
            "needs_background": "light"
          }
        }
      ]
    },
    {
      "cell_type": "code",
      "source": [
        "print(classification_report(y_test, predicted))\n",
        "\n",
        "print(\"Accuracy\", metrics.accuracy_score(y_test, predicted))"
      ],
      "metadata": {
        "colab": {
          "base_uri": "https://localhost:8080/"
        },
        "id": "J5G0ZVMwx5_v",
        "outputId": "265baeaa-1092-4532-ba60-9f6b35fe4082"
      },
      "id": "J5G0ZVMwx5_v",
      "execution_count": 7,
      "outputs": [
        {
          "output_type": "stream",
          "name": "stdout",
          "text": [
            "              precision    recall  f1-score   support\n",
            "\n",
            "           0       0.96      0.87      0.91        91\n",
            "           1       0.83      0.76      0.80        92\n",
            "           2       0.88      0.84      0.86        88\n",
            "           3       0.74      0.71      0.72        82\n",
            "           4       0.85      0.82      0.83        94\n",
            "           5       0.80      0.86      0.83        95\n",
            "           6       0.91      0.96      0.93        90\n",
            "           7       0.80      0.92      0.86        87\n",
            "           8       0.68      0.74      0.71        89\n",
            "           9       0.79      0.75      0.77        91\n",
            "\n",
            "    accuracy                           0.82       899\n",
            "   macro avg       0.82      0.82      0.82       899\n",
            "weighted avg       0.83      0.82      0.82       899\n",
            "\n",
            "Accuracy 0.8231368186874305\n"
          ]
        }
      ]
    },
    {
      "cell_type": "code",
      "execution_count": 8,
      "metadata": {
        "colab": {
          "base_uri": "https://localhost:8080/"
        },
        "outputId": "e5e5a9c6-7408-435b-d623-7e9314a37f71",
        "id": "oOCQp22vyO8H"
      },
      "outputs": [
        {
          "output_type": "stream",
          "name": "stdout",
          "text": [
            "Fitting 5 folds for each of 600 candidates, totalling 3000 fits\n"
          ]
        },
        {
          "output_type": "execute_result",
          "data": {
            "text/plain": [
              "GridSearchCV(cv=5, estimator=DecisionTreeClassifier(random_state=123),\n",
              "             n_jobs=-1,\n",
              "             param_grid=[{'criterion': ['entropy', 'gini'],\n",
              "                          'max_depth': range(1, 30, 2),\n",
              "                          'min_samples_split': range(10, 500, 25)}],\n",
              "             verbose=2)"
            ]
          },
          "metadata": {},
          "execution_count": 8
        }
      ],
      "source": [
        "# Tuning hyperparameter with GridSearchCV\n",
        "tree_param = [{'criterion': ['entropy', 'gini'], 'max_depth':range(1,30,2),'min_samples_split':range(10,500,25)}]\n",
        "dt_grid = GridSearchCV(dt,tree_param,cv=5,n_jobs=-1,verbose=2)\n",
        "dt_grid.fit(X_train, y_train)"
      ],
      "id": "oOCQp22vyO8H"
    },
    {
      "cell_type": "code",
      "execution_count": 9,
      "metadata": {
        "colab": {
          "base_uri": "https://localhost:8080/"
        },
        "outputId": "0a1df98a-ed98-4144-8e21-fd5b87ef1944",
        "id": "JMypo2byusv6"
      },
      "outputs": [
        {
          "output_type": "execute_result",
          "data": {
            "text/plain": [
              "{'criterion': 'entropy', 'max_depth': 7, 'min_samples_split': 10}"
            ]
          },
          "metadata": {},
          "execution_count": 9
        }
      ],
      "source": [
        "\n",
        "# selection of best parameters\n",
        "dt_grid.best_params_"
      ],
      "id": "JMypo2byusv6"
    },
    {
      "cell_type": "code",
      "execution_count": 10,
      "metadata": {
        "id": "e0c51417"
      },
      "outputs": [],
      "source": [
        "DT = DecisionTreeClassifier(criterion = 'entropy', max_depth = 9, min_samples_split = 10, random_state = 100)"
      ],
      "id": "e0c51417"
    },
    {
      "cell_type": "code",
      "execution_count": 11,
      "id": "99c57e2a",
      "metadata": {
        "colab": {
          "base_uri": "https://localhost:8080/"
        },
        "id": "99c57e2a",
        "outputId": "57219b74-0d2a-49b3-eae4-df0e2369a944"
      },
      "outputs": [
        {
          "output_type": "stream",
          "name": "stdout",
          "text": [
            "[0.80833333 0.76388889 0.83844011 0.82172702 0.7632312 ]\n",
            "0.80 accuracy with a standard deviation of 0.03\n"
          ]
        }
      ],
      "source": [
        "scores = cross_val_score(DT, data, digits.target, cv=5)\n",
        "print(scores)\n",
        "print(\"%0.2f accuracy with a standard deviation of %0.2f\" % (scores.mean(), scores.std()))"
      ]
    },
    {
      "cell_type": "markdown",
      "id": "cce34d32",
      "metadata": {
        "id": "cce34d32"
      },
      "source": [
        "#### Ensemble of Trees"
      ]
    },
    {
      "cell_type": "code",
      "execution_count": 12,
      "id": "accab191",
      "metadata": {
        "colab": {
          "base_uri": "https://localhost:8080/"
        },
        "id": "accab191",
        "outputId": "5210d4bc-2a5a-4196-96a5-aa55db402e87"
      },
      "outputs": [
        {
          "output_type": "stream",
          "name": "stdout",
          "text": [
            "Fitting 3 folds for each of 324 candidates, totalling 972 fits\n"
          ]
        },
        {
          "output_type": "execute_result",
          "data": {
            "text/plain": [
              "{'base_estimator': KNeighborsClassifier(),\n",
              " 'bootstrap': True,\n",
              " 'bootstrap_features': True,\n",
              " 'max_features': 1.0,\n",
              " 'max_samples': 1.0,\n",
              " 'n_estimators': 50}"
            ]
          },
          "metadata": {},
          "execution_count": 12
        }
      ],
      "source": [
        "# Bagging classifier helps in reducing the variance of individual estimators by introducing randomization\n",
        "#into the training stage of each of the estimators and making an ensemble out of all the estimators. \n",
        "\n",
        "n_samples = data.shape[0]\n",
        "n_features = data.shape[1]\n",
        "bagging = BaggingClassifier(random_state=1, n_jobs=-1)\n",
        "params = {'base_estimator': [None, KNeighborsClassifier(), DecisionTreeClassifier()],\n",
        "          'n_estimators': [20,50,100],\n",
        "          'max_samples': [0.5, 1.0, n_samples//2, ],\n",
        "          'max_features': [0.5, 1.0, n_features//2, ],\n",
        "          'bootstrap': [True, False],\n",
        "          'bootstrap_features': [True, False]}\n",
        "bagging_grid = GridSearchCV(bagging, params, cv=3, n_jobs=-1,verbose=1)\n",
        "history = bagging_grid.fit(X_train,y_train)\n",
        "bagging_grid.best_params_"
      ]
    },
    {
      "cell_type": "code",
      "execution_count": 13,
      "id": "c5aa4aca",
      "metadata": {
        "colab": {
          "base_uri": "https://localhost:8080/"
        },
        "id": "c5aa4aca",
        "outputId": "fd29adc4-eaeb-4b98-8fc1-260f7e7a0cd3"
      },
      "outputs": [
        {
          "output_type": "stream",
          "name": "stdout",
          "text": [
            "[0.95277778 0.93888889 0.97214485 0.97493036 0.9637883 ]\n",
            "0.96 accuracy with a standard deviation of 0.01\n"
          ]
        }
      ],
      "source": [
        "BC = BaggingClassifier(KNeighborsClassifier(), bootstrap = True, bootstrap_features = True, max_features=1.0, max_samples=1.0,\n",
        "                       n_estimators=50)\n",
        "scor = cross_val_score(BC, data, digits.target, cv=5, n_jobs=-1)\n",
        "print(scor)\n",
        "print(\"%0.2f accuracy with a standard deviation of %0.2f\" % (scor.mean(), scor.std()))"
      ]
    },
    {
      "cell_type": "markdown",
      "id": "637e0f60",
      "metadata": {
        "id": "637e0f60"
      },
      "source": [
        "#### Random Forest"
      ]
    },
    {
      "cell_type": "code",
      "execution_count": 14,
      "id": "a313ce68",
      "metadata": {
        "id": "a313ce68"
      },
      "outputs": [],
      "source": [
        "rf = RandomForestClassifier()\n"
      ]
    },
    {
      "cell_type": "code",
      "execution_count": 15,
      "metadata": {
        "colab": {
          "base_uri": "https://localhost:8080/",
          "height": 127
        },
        "outputId": "9dcad01d-9a99-4d63-a626-7a210ddb1614",
        "id": "v2L7_MpV01eh"
      },
      "outputs": [
        {
          "output_type": "display_data",
          "data": {
            "text/plain": [
              "<Figure size 720x216 with 6 Axes>"
            ],
            "image/png": "[encoded data removed]"
          },
          "metadata": {
            "needs_background": "light"
          }
        }
      ],
      "source": [
        "# learn the digits on the train subset\n",
        "rf.fit(X_train,y_train)\n",
        "\n",
        "# predict the value of the digit on the test subset\n",
        "pred = rf.predict(X_test)\n",
        "\n",
        "# visualization of first 6 test samples and show their predicted digit value in the title\n",
        "_, axes = plt.subplots(nrows=1, ncols=6, figsize=(10, 3))\n",
        "for ax, image, pred in zip(axes, X_test, predicted):\n",
        "    ax.set_axis_off()\n",
        "    image = image.reshape(8, 8)\n",
        "    ax.imshow(image, cmap=plt.cm.gray_r, interpolation=\"nearest\")\n",
        "    ax.set_title(f\"Prediction: {pred}\")"
      ],
      "id": "v2L7_MpV01eh"
    },
    {
      "cell_type": "code",
      "execution_count": 16,
      "metadata": {
        "colab": {
          "base_uri": "https://localhost:8080/"
        },
        "outputId": "50211bc0-fcc6-40f3-a2c1-37e9dd4f636a",
        "id": "k0y0xkdI0oLQ"
      },
      "outputs": [
        {
          "output_type": "stream",
          "name": "stdout",
          "text": [
            "Fitting 3 folds for each of 96 candidates, totalling 288 fits\n"
          ]
        },
        {
          "output_type": "execute_result",
          "data": {
            "text/plain": [
              "{'bootstrap': False,\n",
              " 'criterion': 'entropy',\n",
              " 'max_depth': None,\n",
              " 'max_features': 'sqrt',\n",
              " 'min_samples_leaf': 1,\n",
              " 'min_samples_split': 2,\n",
              " 'n_estimators': 100}"
            ]
          },
          "metadata": {},
          "execution_count": 16
        }
      ],
      "source": [
        "# Tuning hyperparameters with GridSearchCV\n",
        "param_dist = {\"n_estimators\": [10,50,100],\n",
        "              \"max_depth\": [3, None],\n",
        "              \"max_features\": [\"sqrt\"],\n",
        "              \"min_samples_split\": [2,11],\n",
        "              \"min_samples_leaf\": [1,11],\n",
        "              \"bootstrap\": [True, False],\n",
        "              \"criterion\": [\"gini\", \"entropy\"]} \n",
        "r_cl = GridSearchCV(rf, param_dist, n_jobs=-1,cv=3, verbose=True)\n",
        "r_cl.fit(X_train,y_train)\n",
        "r_cl.best_params_"
      ],
      "id": "k0y0xkdI0oLQ"
    },
    {
      "cell_type": "code",
      "execution_count": 17,
      "id": "3ef118b5",
      "metadata": {
        "id": "3ef118b5"
      },
      "outputs": [],
      "source": [
        "RF = RandomForestClassifier(bootstrap=False, criterion=\"gini\", max_depth=None, max_features=\"sqrt\", min_samples_leaf=1,\n",
        "                           min_samples_split=2,n_estimators=50)\n"
      ]
    },
    {
      "cell_type": "code",
      "execution_count": 18,
      "id": "9fa6d236",
      "metadata": {
        "colab": {
          "base_uri": "https://localhost:8080/"
        },
        "id": "9fa6d236",
        "outputId": "52f964d2-84cb-4034-eaf2-8daf73a2c46b"
      },
      "outputs": [
        {
          "output_type": "stream",
          "name": "stdout",
          "text": [
            "[0.93333333 0.91388889 0.96100279 0.96657382 0.9275766 ]\n",
            "0.94 accuracy with a standard deviation of 0.02\n"
          ]
        }
      ],
      "source": [
        "score = cross_val_score(RF, data, digits.target, cv=5)\n",
        "print(score)\n",
        "print(\"%0.2f accuracy with a standard deviation of %0.2f\" % (score.mean(), score.std()))"
      ]
    },
    {
      "cell_type": "markdown",
      "id": "59169a8e",
      "metadata": {
        "id": "59169a8e"
      },
      "source": [
        "#### MLP Neural Network"
      ]
    },
    {
      "cell_type": "code",
      "source": [
        "from keras.models import Sequential\n",
        "from keras.layers import Dense, Activation\n",
        "\n",
        "model = Sequential()\n",
        "model.add(Dense(10, input_shape=(64,), activation=\"softmax\"))\n",
        "\n",
        "model.compile(loss='sparse_categorical_crossentropy', \n",
        "              optimizer='adam',\n",
        "              metrics=['accuracy'])\n",
        "\n",
        "model.summary()"
      ],
      "metadata": {
        "colab": {
          "base_uri": "https://localhost:8080/"
        },
        "id": "w59ELuIwfzgc",
        "outputId": "290673cb-cfd1-4d97-f761-21f4f9128256"
      },
      "id": "w59ELuIwfzgc",
      "execution_count": 19,
      "outputs": [
        {
          "output_type": "stream",
          "name": "stdout",
          "text": [
            "Model: \"sequential\"\n",
            "_________________________________________________________________\n",
            " Layer (type)                Output Shape              Param #   \n",
            "=================================================================\n",
            " dense (Dense)               (None, 10)                650       \n",
            "                                                                 \n",
            "=================================================================\n",
            "Total params: 650\n",
            "Trainable params: 650\n",
            "Non-trainable params: 0\n",
            "_________________________________________________________________\n"
          ]
        }
      ]
    },
    {
      "cell_type": "code",
      "source": [
        "history = model.fit(X_train, y_train, validation_split=0.1, epochs=50)"
      ],
      "metadata": {
        "colab": {
          "base_uri": "https://localhost:8080/"
        },
        "id": "z40qI72hhCwY",
        "outputId": "d112e831-4597-47c1-e59a-5acbddfd2dff"
      },
      "id": "z40qI72hhCwY",
      "execution_count": 20,
      "outputs": [
        {
          "output_type": "stream",
          "name": "stdout",
          "text": [
            "Epoch 1/50\n",
            "26/26 [==============================] - 3s 14ms/step - loss: 10.4397 - accuracy: 0.1906 - val_loss: 8.3057 - val_accuracy: 0.1444\n",
            "Epoch 2/50\n",
            "26/26 [==============================] - 0s 3ms/step - loss: 6.2351 - accuracy: 0.1844 - val_loss: 5.9451 - val_accuracy: 0.2000\n",
            "Epoch 3/50\n",
            "26/26 [==============================] - 0s 3ms/step - loss: 4.4968 - accuracy: 0.2475 - val_loss: 4.5549 - val_accuracy: 0.2444\n",
            "Epoch 4/50\n",
            "26/26 [==============================] - 0s 3ms/step - loss: 3.2628 - accuracy: 0.3391 - val_loss: 3.3448 - val_accuracy: 0.2778\n",
            "Epoch 5/50\n",
            "26/26 [==============================] - 0s 3ms/step - loss: 2.4016 - accuracy: 0.4406 - val_loss: 2.4905 - val_accuracy: 0.3778\n",
            "Epoch 6/50\n",
            "26/26 [==============================] - 0s 4ms/step - loss: 1.8023 - accuracy: 0.5322 - val_loss: 1.9114 - val_accuracy: 0.5333\n",
            "Epoch 7/50\n",
            "26/26 [==============================] - 0s 3ms/step - loss: 1.4086 - accuracy: 0.6200 - val_loss: 1.5183 - val_accuracy: 0.6222\n",
            "Epoch 8/50\n",
            "26/26 [==============================] - 0s 3ms/step - loss: 1.1373 - accuracy: 0.6894 - val_loss: 1.2433 - val_accuracy: 0.6556\n",
            "Epoch 9/50\n",
            "26/26 [==============================] - 0s 4ms/step - loss: 0.9610 - accuracy: 0.7277 - val_loss: 1.0730 - val_accuracy: 0.7111\n",
            "Epoch 10/50\n",
            "26/26 [==============================] - 0s 3ms/step - loss: 0.8038 - accuracy: 0.7686 - val_loss: 0.9238 - val_accuracy: 0.7444\n",
            "Epoch 11/50\n",
            "26/26 [==============================] - 0s 3ms/step - loss: 0.6940 - accuracy: 0.7871 - val_loss: 0.8273 - val_accuracy: 0.7667\n",
            "Epoch 12/50\n",
            "26/26 [==============================] - 0s 3ms/step - loss: 0.6073 - accuracy: 0.8131 - val_loss: 0.7353 - val_accuracy: 0.7778\n",
            "Epoch 13/50\n",
            "26/26 [==============================] - 0s 3ms/step - loss: 0.5340 - accuracy: 0.8292 - val_loss: 0.6735 - val_accuracy: 0.7778\n",
            "Epoch 14/50\n",
            "26/26 [==============================] - 0s 3ms/step - loss: 0.4765 - accuracy: 0.8478 - val_loss: 0.6202 - val_accuracy: 0.7889\n",
            "Epoch 15/50\n",
            "26/26 [==============================] - 0s 3ms/step - loss: 0.4303 - accuracy: 0.8676 - val_loss: 0.5724 - val_accuracy: 0.8222\n",
            "Epoch 16/50\n",
            "26/26 [==============================] - 0s 3ms/step - loss: 0.3860 - accuracy: 0.8824 - val_loss: 0.5217 - val_accuracy: 0.8222\n",
            "Epoch 17/50\n",
            "26/26 [==============================] - 0s 3ms/step - loss: 0.3504 - accuracy: 0.8911 - val_loss: 0.5003 - val_accuracy: 0.8222\n",
            "Epoch 18/50\n",
            "26/26 [==============================] - 0s 3ms/step - loss: 0.3241 - accuracy: 0.8985 - val_loss: 0.4610 - val_accuracy: 0.8333\n",
            "Epoch 19/50\n",
            "26/26 [==============================] - 0s 3ms/step - loss: 0.3002 - accuracy: 0.9010 - val_loss: 0.4390 - val_accuracy: 0.8333\n",
            "Epoch 20/50\n",
            "26/26 [==============================] - 0s 3ms/step - loss: 0.2711 - accuracy: 0.9158 - val_loss: 0.4150 - val_accuracy: 0.8333\n",
            "Epoch 21/50\n",
            "26/26 [==============================] - 0s 3ms/step - loss: 0.2511 - accuracy: 0.9270 - val_loss: 0.3890 - val_accuracy: 0.8444\n",
            "Epoch 22/50\n",
            "26/26 [==============================] - 0s 3ms/step - loss: 0.2352 - accuracy: 0.9245 - val_loss: 0.3715 - val_accuracy: 0.8444\n",
            "Epoch 23/50\n",
            "26/26 [==============================] - 0s 3ms/step - loss: 0.2172 - accuracy: 0.9356 - val_loss: 0.3610 - val_accuracy: 0.8444\n",
            "Epoch 24/50\n",
            "26/26 [==============================] - 0s 3ms/step - loss: 0.2035 - accuracy: 0.9381 - val_loss: 0.3483 - val_accuracy: 0.8444\n",
            "Epoch 25/50\n",
            "26/26 [==============================] - 0s 3ms/step - loss: 0.1941 - accuracy: 0.9418 - val_loss: 0.3361 - val_accuracy: 0.8444\n",
            "Epoch 26/50\n",
            "26/26 [==============================] - 0s 3ms/step - loss: 0.1866 - accuracy: 0.9455 - val_loss: 0.3235 - val_accuracy: 0.8667\n",
            "Epoch 27/50\n",
            "26/26 [==============================] - 0s 3ms/step - loss: 0.1728 - accuracy: 0.9505 - val_loss: 0.3141 - val_accuracy: 0.8556\n",
            "Epoch 28/50\n",
            "26/26 [==============================] - 0s 3ms/step - loss: 0.1601 - accuracy: 0.9567 - val_loss: 0.2993 - val_accuracy: 0.8778\n",
            "Epoch 29/50\n",
            "26/26 [==============================] - 0s 3ms/step - loss: 0.1546 - accuracy: 0.9579 - val_loss: 0.2947 - val_accuracy: 0.8778\n",
            "Epoch 30/50\n",
            "26/26 [==============================] - 0s 3ms/step - loss: 0.1453 - accuracy: 0.9604 - val_loss: 0.2857 - val_accuracy: 0.8778\n",
            "Epoch 31/50\n",
            "26/26 [==============================] - 0s 3ms/step - loss: 0.1392 - accuracy: 0.9641 - val_loss: 0.2787 - val_accuracy: 0.8778\n",
            "Epoch 32/50\n",
            "26/26 [==============================] - 0s 3ms/step - loss: 0.1319 - accuracy: 0.9666 - val_loss: 0.2783 - val_accuracy: 0.8778\n",
            "Epoch 33/50\n",
            "26/26 [==============================] - 0s 3ms/step - loss: 0.1256 - accuracy: 0.9691 - val_loss: 0.2643 - val_accuracy: 0.8778\n",
            "Epoch 34/50\n",
            "26/26 [==============================] - 0s 3ms/step - loss: 0.1204 - accuracy: 0.9678 - val_loss: 0.2620 - val_accuracy: 0.8889\n",
            "Epoch 35/50\n",
            "26/26 [==============================] - 0s 3ms/step - loss: 0.1161 - accuracy: 0.9703 - val_loss: 0.2580 - val_accuracy: 0.8889\n",
            "Epoch 36/50\n",
            "26/26 [==============================] - 0s 3ms/step - loss: 0.1121 - accuracy: 0.9703 - val_loss: 0.2530 - val_accuracy: 0.9000\n",
            "Epoch 37/50\n",
            "26/26 [==============================] - 0s 3ms/step - loss: 0.1070 - accuracy: 0.9740 - val_loss: 0.2503 - val_accuracy: 0.8889\n",
            "Epoch 38/50\n",
            "26/26 [==============================] - 0s 4ms/step - loss: 0.1033 - accuracy: 0.9740 - val_loss: 0.2526 - val_accuracy: 0.8889\n",
            "Epoch 39/50\n",
            "26/26 [==============================] - 0s 3ms/step - loss: 0.0994 - accuracy: 0.9728 - val_loss: 0.2481 - val_accuracy: 0.8889\n",
            "Epoch 40/50\n",
            "26/26 [==============================] - 0s 3ms/step - loss: 0.0962 - accuracy: 0.9752 - val_loss: 0.2434 - val_accuracy: 0.9000\n",
            "Epoch 41/50\n",
            "26/26 [==============================] - 0s 3ms/step - loss: 0.0922 - accuracy: 0.9765 - val_loss: 0.2363 - val_accuracy: 0.8778\n",
            "Epoch 42/50\n",
            "26/26 [==============================] - 0s 3ms/step - loss: 0.0886 - accuracy: 0.9752 - val_loss: 0.2431 - val_accuracy: 0.8778\n",
            "Epoch 43/50\n",
            "26/26 [==============================] - 0s 3ms/step - loss: 0.0858 - accuracy: 0.9790 - val_loss: 0.2397 - val_accuracy: 0.8778\n",
            "Epoch 44/50\n",
            "26/26 [==============================] - 0s 3ms/step - loss: 0.0820 - accuracy: 0.9802 - val_loss: 0.2335 - val_accuracy: 0.8778\n",
            "Epoch 45/50\n",
            "26/26 [==============================] - 0s 3ms/step - loss: 0.0801 - accuracy: 0.9814 - val_loss: 0.2299 - val_accuracy: 0.8889\n",
            "Epoch 46/50\n",
            "26/26 [==============================] - 0s 3ms/step - loss: 0.0783 - accuracy: 0.9814 - val_loss: 0.2314 - val_accuracy: 0.8778\n",
            "Epoch 47/50\n",
            "26/26 [==============================] - 0s 3ms/step - loss: 0.0749 - accuracy: 0.9814 - val_loss: 0.2301 - val_accuracy: 0.8889\n",
            "Epoch 48/50\n",
            "26/26 [==============================] - 0s 3ms/step - loss: 0.0719 - accuracy: 0.9839 - val_loss: 0.2259 - val_accuracy: 0.9000\n",
            "Epoch 49/50\n",
            "26/26 [==============================] - 0s 3ms/step - loss: 0.0706 - accuracy: 0.9827 - val_loss: 0.2291 - val_accuracy: 0.9000\n",
            "Epoch 50/50\n",
            "26/26 [==============================] - 0s 3ms/step - loss: 0.0673 - accuracy: 0.9864 - val_loss: 0.2269 - val_accuracy: 0.8778\n"
          ]
        }
      ]
    },
    {
      "cell_type": "markdown",
      "source": [
        "We realise that at epoch 40, it attained its peak and later dropped and finally attained convergence at epoch 43"
      ],
      "metadata": {
        "id": "IrwyJ8qC7BYb"
      },
      "id": "IrwyJ8qC7BYb"
    },
    {
      "cell_type": "code",
      "source": [
        "plt.plot(history.history['loss'])"
      ],
      "metadata": {
        "colab": {
          "base_uri": "https://localhost:8080/",
          "height": 282
        },
        "id": "Q41eAhFQi-na",
        "outputId": "6ab77813-89dd-4502-9486-0583c769cb14"
      },
      "id": "Q41eAhFQi-na",
      "execution_count": 21,
      "outputs": [
        {
          "output_type": "execute_result",
          "data": {
            "text/plain": [
              "[<matplotlib.lines.Line2D at 0x7f2360a499a0>]"
            ]
          },
          "metadata": {},
          "execution_count": 21
        },
        {
          "output_type": "display_data",
          "data": {
            "text/plain": [
              "<Figure size 432x288 with 1 Axes>"
            ],
            "image/png": "[encoded data removed]"
          },
          "metadata": {
            "needs_background": "light"
          }
        }
      ]
    },
    {
      "cell_type": "code",
      "source": [
        "loss, acc = model.evaluate(X_test, y_test)\n",
        "print(\"Test loss:\", loss)\n",
        "print(\"Test Accuracy:\", acc)"
      ],
      "metadata": {
        "colab": {
          "base_uri": "https://localhost:8080/"
        },
        "id": "a-VpF4fsib5V",
        "outputId": "0024d775-cf61-487b-adfc-092c9236abdb"
      },
      "id": "a-VpF4fsib5V",
      "execution_count": 22,
      "outputs": [
        {
          "output_type": "stream",
          "name": "stdout",
          "text": [
            "29/29 [==============================] - 0s 2ms/step - loss: 0.2379 - accuracy: 0.9266\n",
            "Test loss: 0.23794865608215332\n",
            "Test Accuracy: 0.9265850782394409\n"
          ]
        }
      ]
    },
    {
      "cell_type": "code",
      "source": [
        "# Two hidden layers\n",
        "\n",
        "model2 = Sequential()\n",
        "model2.add(Dense(128, input_shape=(64,), activation=\"relu\"))\n",
        "model2.add(Dense(10,activation=\"softmax\"))\n",
        "\n",
        "model2.compile(loss='sparse_categorical_crossentropy', \n",
        "              optimizer='adam',\n",
        "              metrics=['accuracy'])\n",
        "\n",
        "model2.summary()"
      ],
      "metadata": {
        "colab": {
          "base_uri": "https://localhost:8080/"
        },
        "id": "RphOd1wEkeVm",
        "outputId": "d87123c2-e936-4857-86b7-a23b8da61fda"
      },
      "id": "RphOd1wEkeVm",
      "execution_count": 23,
      "outputs": [
        {
          "output_type": "stream",
          "name": "stdout",
          "text": [
            "Model: \"sequential_1\"\n",
            "_________________________________________________________________\n",
            " Layer (type)                Output Shape              Param #   \n",
            "=================================================================\n",
            " dense_1 (Dense)             (None, 128)               8320      \n",
            "                                                                 \n",
            " dense_2 (Dense)             (None, 10)                1290      \n",
            "                                                                 \n",
            "=================================================================\n",
            "Total params: 9,610\n",
            "Trainable params: 9,610\n",
            "Non-trainable params: 0\n",
            "_________________________________________________________________\n"
          ]
        }
      ]
    },
    {
      "cell_type": "code",
      "source": [
        "history2 = model2.fit(X_train, y_train, validation_split=0.1, epochs=50)"
      ],
      "metadata": {
        "colab": {
          "base_uri": "https://localhost:8080/"
        },
        "id": "08FmWuolkjTa",
        "outputId": "321d2aa0-5914-440b-e2ee-7275db050a66"
      },
      "id": "08FmWuolkjTa",
      "execution_count": 24,
      "outputs": [
        {
          "output_type": "stream",
          "name": "stdout",
          "text": [
            "Epoch 1/50\n",
            "26/26 [==============================] - 0s 8ms/step - loss: 2.9005 - accuracy: 0.3379 - val_loss: 1.0867 - val_accuracy: 0.6667\n",
            "Epoch 2/50\n",
            "26/26 [==============================] - 0s 4ms/step - loss: 0.6759 - accuracy: 0.7921 - val_loss: 0.4317 - val_accuracy: 0.8444\n",
            "Epoch 3/50\n",
            "26/26 [==============================] - 0s 3ms/step - loss: 0.3677 - accuracy: 0.8936 - val_loss: 0.3122 - val_accuracy: 0.9111\n",
            "Epoch 4/50\n",
            "26/26 [==============================] - 0s 3ms/step - loss: 0.2583 - accuracy: 0.9233 - val_loss: 0.2155 - val_accuracy: 0.9556\n",
            "Epoch 5/50\n",
            "26/26 [==============================] - 0s 3ms/step - loss: 0.1870 - accuracy: 0.9418 - val_loss: 0.1973 - val_accuracy: 0.9333\n",
            "Epoch 6/50\n",
            "26/26 [==============================] - 0s 3ms/step - loss: 0.1566 - accuracy: 0.9455 - val_loss: 0.1968 - val_accuracy: 0.9556\n",
            "Epoch 7/50\n",
            "26/26 [==============================] - 0s 3ms/step - loss: 0.1141 - accuracy: 0.9678 - val_loss: 0.1958 - val_accuracy: 0.9556\n",
            "Epoch 8/50\n",
            "26/26 [==============================] - 0s 3ms/step - loss: 0.0838 - accuracy: 0.9752 - val_loss: 0.1606 - val_accuracy: 0.9778\n",
            "Epoch 9/50\n",
            "26/26 [==============================] - 0s 3ms/step - loss: 0.0724 - accuracy: 0.9814 - val_loss: 0.1450 - val_accuracy: 0.9778\n",
            "Epoch 10/50\n",
            "26/26 [==============================] - 0s 3ms/step - loss: 0.0606 - accuracy: 0.9913 - val_loss: 0.1506 - val_accuracy: 0.9667\n",
            "Epoch 11/50\n",
            "26/26 [==============================] - 0s 3ms/step - loss: 0.0463 - accuracy: 0.9901 - val_loss: 0.1309 - val_accuracy: 0.9667\n",
            "Epoch 12/50\n",
            "26/26 [==============================] - 0s 4ms/step - loss: 0.0429 - accuracy: 0.9963 - val_loss: 0.1329 - val_accuracy: 0.9778\n",
            "Epoch 13/50\n",
            "26/26 [==============================] - 0s 3ms/step - loss: 0.0366 - accuracy: 0.9988 - val_loss: 0.1225 - val_accuracy: 0.9667\n",
            "Epoch 14/50\n",
            "26/26 [==============================] - 0s 3ms/step - loss: 0.0349 - accuracy: 0.9950 - val_loss: 0.1175 - val_accuracy: 0.9778\n",
            "Epoch 15/50\n",
            "26/26 [==============================] - 0s 3ms/step - loss: 0.0259 - accuracy: 0.9988 - val_loss: 0.1250 - val_accuracy: 0.9667\n",
            "Epoch 16/50\n",
            "26/26 [==============================] - 0s 4ms/step - loss: 0.0236 - accuracy: 0.9988 - val_loss: 0.1299 - val_accuracy: 0.9667\n",
            "Epoch 17/50\n",
            "26/26 [==============================] - 0s 3ms/step - loss: 0.0235 - accuracy: 1.0000 - val_loss: 0.1211 - val_accuracy: 0.9778\n",
            "Epoch 18/50\n",
            "26/26 [==============================] - 0s 3ms/step - loss: 0.0189 - accuracy: 0.9988 - val_loss: 0.1155 - val_accuracy: 0.9778\n",
            "Epoch 19/50\n",
            "26/26 [==============================] - 0s 3ms/step - loss: 0.0195 - accuracy: 0.9988 - val_loss: 0.1270 - val_accuracy: 0.9778\n",
            "Epoch 20/50\n",
            "26/26 [==============================] - 0s 3ms/step - loss: 0.0159 - accuracy: 0.9988 - val_loss: 0.1101 - val_accuracy: 0.9667\n",
            "Epoch 21/50\n",
            "26/26 [==============================] - 0s 3ms/step - loss: 0.0144 - accuracy: 1.0000 - val_loss: 0.1147 - val_accuracy: 0.9778\n",
            "Epoch 22/50\n",
            "26/26 [==============================] - 0s 3ms/step - loss: 0.0133 - accuracy: 1.0000 - val_loss: 0.1090 - val_accuracy: 0.9778\n",
            "Epoch 23/50\n",
            "26/26 [==============================] - 0s 3ms/step - loss: 0.0126 - accuracy: 1.0000 - val_loss: 0.1130 - val_accuracy: 0.9778\n",
            "Epoch 24/50\n",
            "26/26 [==============================] - 0s 3ms/step - loss: 0.0122 - accuracy: 1.0000 - val_loss: 0.1086 - val_accuracy: 0.9778\n",
            "Epoch 25/50\n",
            "26/26 [==============================] - 0s 4ms/step - loss: 0.0105 - accuracy: 1.0000 - val_loss: 0.1112 - val_accuracy: 0.9778\n",
            "Epoch 26/50\n",
            "26/26 [==============================] - 0s 3ms/step - loss: 0.0102 - accuracy: 1.0000 - val_loss: 0.1075 - val_accuracy: 0.9778\n",
            "Epoch 27/50\n",
            "26/26 [==============================] - 0s 3ms/step - loss: 0.0094 - accuracy: 1.0000 - val_loss: 0.1051 - val_accuracy: 0.9778\n",
            "Epoch 28/50\n",
            "26/26 [==============================] - 0s 3ms/step - loss: 0.0113 - accuracy: 1.0000 - val_loss: 0.1045 - val_accuracy: 0.9778\n",
            "Epoch 29/50\n",
            "26/26 [==============================] - 0s 4ms/step - loss: 0.0089 - accuracy: 1.0000 - val_loss: 0.1050 - val_accuracy: 0.9778\n",
            "Epoch 30/50\n",
            "26/26 [==============================] - 0s 3ms/step - loss: 0.0077 - accuracy: 1.0000 - val_loss: 0.1032 - val_accuracy: 0.9778\n",
            "Epoch 31/50\n",
            "26/26 [==============================] - 0s 3ms/step - loss: 0.0074 - accuracy: 1.0000 - val_loss: 0.1029 - val_accuracy: 0.9667\n",
            "Epoch 32/50\n",
            "26/26 [==============================] - 0s 3ms/step - loss: 0.0070 - accuracy: 1.0000 - val_loss: 0.0989 - val_accuracy: 0.9778\n",
            "Epoch 33/50\n",
            "26/26 [==============================] - 0s 3ms/step - loss: 0.0066 - accuracy: 1.0000 - val_loss: 0.1006 - val_accuracy: 0.9778\n",
            "Epoch 34/50\n",
            "26/26 [==============================] - 0s 3ms/step - loss: 0.0062 - accuracy: 1.0000 - val_loss: 0.0996 - val_accuracy: 0.9778\n",
            "Epoch 35/50\n",
            "26/26 [==============================] - 0s 3ms/step - loss: 0.0058 - accuracy: 1.0000 - val_loss: 0.0991 - val_accuracy: 0.9778\n",
            "Epoch 36/50\n",
            "26/26 [==============================] - 0s 3ms/step - loss: 0.0056 - accuracy: 1.0000 - val_loss: 0.0992 - val_accuracy: 0.9778\n",
            "Epoch 37/50\n",
            "26/26 [==============================] - 0s 3ms/step - loss: 0.0055 - accuracy: 1.0000 - val_loss: 0.0963 - val_accuracy: 0.9778\n",
            "Epoch 38/50\n",
            "26/26 [==============================] - 0s 3ms/step - loss: 0.0050 - accuracy: 1.0000 - val_loss: 0.0936 - val_accuracy: 0.9778\n",
            "Epoch 39/50\n",
            "26/26 [==============================] - 0s 3ms/step - loss: 0.0049 - accuracy: 1.0000 - val_loss: 0.0973 - val_accuracy: 0.9778\n",
            "Epoch 40/50\n",
            "26/26 [==============================] - 0s 4ms/step - loss: 0.0047 - accuracy: 1.0000 - val_loss: 0.0927 - val_accuracy: 0.9778\n",
            "Epoch 41/50\n",
            "26/26 [==============================] - 0s 3ms/step - loss: 0.0045 - accuracy: 1.0000 - val_loss: 0.0944 - val_accuracy: 0.9778\n",
            "Epoch 42/50\n",
            "26/26 [==============================] - 0s 3ms/step - loss: 0.0043 - accuracy: 1.0000 - val_loss: 0.0923 - val_accuracy: 0.9778\n",
            "Epoch 43/50\n",
            "26/26 [==============================] - 0s 3ms/step - loss: 0.0041 - accuracy: 1.0000 - val_loss: 0.0933 - val_accuracy: 0.9778\n",
            "Epoch 44/50\n",
            "26/26 [==============================] - 0s 4ms/step - loss: 0.0039 - accuracy: 1.0000 - val_loss: 0.0923 - val_accuracy: 0.9778\n",
            "Epoch 45/50\n",
            "26/26 [==============================] - 0s 3ms/step - loss: 0.0037 - accuracy: 1.0000 - val_loss: 0.0914 - val_accuracy: 0.9778\n",
            "Epoch 46/50\n",
            "26/26 [==============================] - 0s 3ms/step - loss: 0.0036 - accuracy: 1.0000 - val_loss: 0.0927 - val_accuracy: 0.9778\n",
            "Epoch 47/50\n",
            "26/26 [==============================] - 0s 3ms/step - loss: 0.0035 - accuracy: 1.0000 - val_loss: 0.0915 - val_accuracy: 0.9778\n",
            "Epoch 48/50\n",
            "26/26 [==============================] - 0s 3ms/step - loss: 0.0033 - accuracy: 1.0000 - val_loss: 0.0886 - val_accuracy: 0.9778\n",
            "Epoch 49/50\n",
            "26/26 [==============================] - 0s 3ms/step - loss: 0.0031 - accuracy: 1.0000 - val_loss: 0.0907 - val_accuracy: 0.9778\n",
            "Epoch 50/50\n",
            "26/26 [==============================] - 0s 3ms/step - loss: 0.0030 - accuracy: 1.0000 - val_loss: 0.0870 - val_accuracy: 0.9778\n"
          ]
        }
      ]
    },
    {
      "cell_type": "markdown",
      "source": [
        "For two hidfden layers, it reached its peak of 1 val accuracy at epoch 39, and later dropped a little and attained convergence at epoch 40 with a score of 0.9889"
      ],
      "metadata": {
        "id": "4HzMtp5T7Zn2"
      },
      "id": "4HzMtp5T7Zn2"
    },
    {
      "cell_type": "code",
      "source": [
        "plt.plot(history2.history['loss'])"
      ],
      "metadata": {
        "colab": {
          "base_uri": "https://localhost:8080/",
          "height": 283
        },
        "id": "044k35GVk3Zb",
        "outputId": "9611d500-2372-44dd-cbab-6a40865b31eb"
      },
      "id": "044k35GVk3Zb",
      "execution_count": 25,
      "outputs": [
        {
          "output_type": "execute_result",
          "data": {
            "text/plain": [
              "[<matplotlib.lines.Line2D at 0x7f23608c4f40>]"
            ]
          },
          "metadata": {},
          "execution_count": 25
        },
        {
          "output_type": "display_data",
          "data": {
            "text/plain": [
              "<Figure size 432x288 with 1 Axes>"
            ],
            "image/png": "[encoded data removed]"
          },
          "metadata": {
            "needs_background": "light"
          }
        }
      ]
    },
    {
      "cell_type": "code",
      "source": [
        "loss, acc = model2.evaluate(X_test, y_test)\n",
        "print(\"Test loss:\", loss)\n",
        "print(\"Test Accuracy:\", acc)"
      ],
      "metadata": {
        "colab": {
          "base_uri": "https://localhost:8080/"
        },
        "id": "xd9OQWU1k73p",
        "outputId": "d3b05007-78cb-49cc-ebb4-b206aafda401"
      },
      "id": "xd9OQWU1k73p",
      "execution_count": 26,
      "outputs": [
        {
          "output_type": "stream",
          "name": "stdout",
          "text": [
            "29/29 [==============================] - 0s 2ms/step - loss: 0.1496 - accuracy: 0.9689\n",
            "Test loss: 0.1495773196220398\n",
            "Test Accuracy: 0.9688543081283569\n"
          ]
        }
      ]
    },
    {
      "cell_type": "code",
      "source": [
        "# Three hidden layers\n",
        "\n",
        "model3 = Sequential()\n",
        "model3.add(Dense(128, input_shape=(64,), activation=\"relu\"))\n",
        "model3.add(Dense(256, activation=\"relu\"))\n",
        "model3.add(Dense(10,activation=\"softmax\"))\n",
        "\n",
        "model3.compile(loss='sparse_categorical_crossentropy', \n",
        "              optimizer='adam',\n",
        "              metrics=['accuracy'])\n",
        "\n",
        "model3.summary()"
      ],
      "metadata": {
        "colab": {
          "base_uri": "https://localhost:8080/"
        },
        "id": "Mc1ZNZHwlDti",
        "outputId": "17e8c75e-a2cc-4d4f-d34a-2457b0e49097"
      },
      "id": "Mc1ZNZHwlDti",
      "execution_count": 27,
      "outputs": [
        {
          "output_type": "stream",
          "name": "stdout",
          "text": [
            "Model: \"sequential_2\"\n",
            "_________________________________________________________________\n",
            " Layer (type)                Output Shape              Param #   \n",
            "=================================================================\n",
            " dense_3 (Dense)             (None, 128)               8320      \n",
            "                                                                 \n",
            " dense_4 (Dense)             (None, 256)               33024     \n",
            "                                                                 \n",
            " dense_5 (Dense)             (None, 10)                2570      \n",
            "                                                                 \n",
            "=================================================================\n",
            "Total params: 43,914\n",
            "Trainable params: 43,914\n",
            "Non-trainable params: 0\n",
            "_________________________________________________________________\n"
          ]
        }
      ]
    },
    {
      "cell_type": "code",
      "source": [
        "history3 = model3.fit(X_train, y_train, validation_split=0.1, epochs=50)\n",
        "plt.plot(history3.history['loss'])"
      ],
      "metadata": {
        "colab": {
          "base_uri": "https://localhost:8080/",
          "height": 1000
        },
        "outputId": "0653885c-543f-468e-a258-40ef8bd32129",
        "id": "Xq6YCP5L6n2h"
      },
      "execution_count": 28,
      "outputs": [
        {
          "output_type": "stream",
          "name": "stdout",
          "text": [
            "Epoch 1/50\n",
            "26/26 [==============================] - 1s 8ms/step - loss: 2.0299 - accuracy: 0.5099 - val_loss: 0.4390 - val_accuracy: 0.8222\n",
            "Epoch 2/50\n",
            "26/26 [==============================] - 0s 3ms/step - loss: 0.2852 - accuracy: 0.9097 - val_loss: 0.1942 - val_accuracy: 0.9000\n",
            "Epoch 3/50\n",
            "26/26 [==============================] - 0s 3ms/step - loss: 0.1279 - accuracy: 0.9592 - val_loss: 0.1078 - val_accuracy: 0.9778\n",
            "Epoch 4/50\n",
            "26/26 [==============================] - 0s 4ms/step - loss: 0.0731 - accuracy: 0.9827 - val_loss: 0.1109 - val_accuracy: 0.9556\n",
            "Epoch 5/50\n",
            "26/26 [==============================] - 0s 3ms/step - loss: 0.0481 - accuracy: 0.9950 - val_loss: 0.0867 - val_accuracy: 0.9778\n",
            "Epoch 6/50\n",
            "26/26 [==============================] - 0s 3ms/step - loss: 0.0304 - accuracy: 0.9975 - val_loss: 0.0881 - val_accuracy: 0.9667\n",
            "Epoch 7/50\n",
            "26/26 [==============================] - 0s 3ms/step - loss: 0.0208 - accuracy: 0.9988 - val_loss: 0.0645 - val_accuracy: 0.9889\n",
            "Epoch 8/50\n",
            "26/26 [==============================] - 0s 3ms/step - loss: 0.0157 - accuracy: 0.9988 - val_loss: 0.0567 - val_accuracy: 1.0000\n",
            "Epoch 9/50\n",
            "26/26 [==============================] - 0s 3ms/step - loss: 0.0124 - accuracy: 1.0000 - val_loss: 0.0452 - val_accuracy: 0.9889\n",
            "Epoch 10/50\n",
            "26/26 [==============================] - 0s 3ms/step - loss: 0.0090 - accuracy: 1.0000 - val_loss: 0.0473 - val_accuracy: 0.9889\n",
            "Epoch 11/50\n",
            "26/26 [==============================] - 0s 3ms/step - loss: 0.0065 - accuracy: 1.0000 - val_loss: 0.0395 - val_accuracy: 1.0000\n",
            "Epoch 12/50\n",
            "26/26 [==============================] - 0s 3ms/step - loss: 0.0055 - accuracy: 1.0000 - val_loss: 0.0411 - val_accuracy: 0.9778\n",
            "Epoch 13/50\n",
            "26/26 [==============================] - 0s 3ms/step - loss: 0.0045 - accuracy: 1.0000 - val_loss: 0.0348 - val_accuracy: 0.9889\n",
            "Epoch 14/50\n",
            "26/26 [==============================] - 0s 3ms/step - loss: 0.0038 - accuracy: 1.0000 - val_loss: 0.0329 - val_accuracy: 1.0000\n",
            "Epoch 15/50\n",
            "26/26 [==============================] - 0s 3ms/step - loss: 0.0031 - accuracy: 1.0000 - val_loss: 0.0344 - val_accuracy: 0.9889\n",
            "Epoch 16/50\n",
            "26/26 [==============================] - 0s 3ms/step - loss: 0.0027 - accuracy: 1.0000 - val_loss: 0.0307 - val_accuracy: 0.9889\n",
            "Epoch 17/50\n",
            "26/26 [==============================] - 0s 3ms/step - loss: 0.0025 - accuracy: 1.0000 - val_loss: 0.0296 - val_accuracy: 0.9889\n",
            "Epoch 18/50\n",
            "26/26 [==============================] - 0s 4ms/step - loss: 0.0022 - accuracy: 1.0000 - val_loss: 0.0263 - val_accuracy: 1.0000\n",
            "Epoch 19/50\n",
            "26/26 [==============================] - 0s 4ms/step - loss: 0.0019 - accuracy: 1.0000 - val_loss: 0.0285 - val_accuracy: 0.9889\n",
            "Epoch 20/50\n",
            "26/26 [==============================] - 0s 4ms/step - loss: 0.0017 - accuracy: 1.0000 - val_loss: 0.0257 - val_accuracy: 0.9889\n",
            "Epoch 21/50\n",
            "26/26 [==============================] - 0s 3ms/step - loss: 0.0014 - accuracy: 1.0000 - val_loss: 0.0254 - val_accuracy: 0.9889\n",
            "Epoch 22/50\n",
            "26/26 [==============================] - 0s 3ms/step - loss: 0.0013 - accuracy: 1.0000 - val_loss: 0.0229 - val_accuracy: 1.0000\n",
            "Epoch 23/50\n",
            "26/26 [==============================] - 0s 3ms/step - loss: 0.0012 - accuracy: 1.0000 - val_loss: 0.0253 - val_accuracy: 0.9889\n",
            "Epoch 24/50\n",
            "26/26 [==============================] - 0s 3ms/step - loss: 0.0011 - accuracy: 1.0000 - val_loss: 0.0226 - val_accuracy: 0.9889\n",
            "Epoch 25/50\n",
            "26/26 [==============================] - 0s 3ms/step - loss: 9.7578e-04 - accuracy: 1.0000 - val_loss: 0.0222 - val_accuracy: 0.9889\n",
            "Epoch 26/50\n",
            "26/26 [==============================] - 0s 3ms/step - loss: 8.9980e-04 - accuracy: 1.0000 - val_loss: 0.0228 - val_accuracy: 0.9889\n",
            "Epoch 27/50\n",
            "26/26 [==============================] - 0s 3ms/step - loss: 8.3110e-04 - accuracy: 1.0000 - val_loss: 0.0199 - val_accuracy: 0.9889\n",
            "Epoch 28/50\n",
            "26/26 [==============================] - 0s 3ms/step - loss: 7.8264e-04 - accuracy: 1.0000 - val_loss: 0.0217 - val_accuracy: 0.9889\n",
            "Epoch 29/50\n",
            "26/26 [==============================] - 0s 3ms/step - loss: 7.1512e-04 - accuracy: 1.0000 - val_loss: 0.0208 - val_accuracy: 0.9889\n",
            "Epoch 30/50\n",
            "26/26 [==============================] - 0s 3ms/step - loss: 6.6397e-04 - accuracy: 1.0000 - val_loss: 0.0190 - val_accuracy: 0.9889\n",
            "Epoch 31/50\n",
            "26/26 [==============================] - 0s 3ms/step - loss: 6.2789e-04 - accuracy: 1.0000 - val_loss: 0.0209 - val_accuracy: 0.9889\n",
            "Epoch 32/50\n",
            "26/26 [==============================] - 0s 3ms/step - loss: 5.7090e-04 - accuracy: 1.0000 - val_loss: 0.0212 - val_accuracy: 0.9889\n",
            "Epoch 33/50\n",
            "26/26 [==============================] - 0s 3ms/step - loss: 5.3691e-04 - accuracy: 1.0000 - val_loss: 0.0203 - val_accuracy: 0.9889\n",
            "Epoch 34/50\n",
            "26/26 [==============================] - 0s 3ms/step - loss: 5.0215e-04 - accuracy: 1.0000 - val_loss: 0.0185 - val_accuracy: 0.9889\n",
            "Epoch 35/50\n",
            "26/26 [==============================] - 0s 4ms/step - loss: 4.7332e-04 - accuracy: 1.0000 - val_loss: 0.0197 - val_accuracy: 0.9889\n",
            "Epoch 36/50\n",
            "26/26 [==============================] - 0s 3ms/step - loss: 4.4046e-04 - accuracy: 1.0000 - val_loss: 0.0178 - val_accuracy: 0.9889\n",
            "Epoch 37/50\n",
            "26/26 [==============================] - 0s 3ms/step - loss: 4.2913e-04 - accuracy: 1.0000 - val_loss: 0.0202 - val_accuracy: 0.9889\n",
            "Epoch 38/50\n",
            "26/26 [==============================] - 0s 3ms/step - loss: 3.9720e-04 - accuracy: 1.0000 - val_loss: 0.0181 - val_accuracy: 0.9889\n",
            "Epoch 39/50\n",
            "26/26 [==============================] - 0s 3ms/step - loss: 3.7097e-04 - accuracy: 1.0000 - val_loss: 0.0182 - val_accuracy: 0.9889\n",
            "Epoch 40/50\n",
            "26/26 [==============================] - 0s 3ms/step - loss: 3.5030e-04 - accuracy: 1.0000 - val_loss: 0.0197 - val_accuracy: 0.9889\n",
            "Epoch 41/50\n",
            "26/26 [==============================] - 0s 3ms/step - loss: 3.3825e-04 - accuracy: 1.0000 - val_loss: 0.0180 - val_accuracy: 0.9889\n",
            "Epoch 42/50\n",
            "26/26 [==============================] - 0s 4ms/step - loss: 3.2598e-04 - accuracy: 1.0000 - val_loss: 0.0187 - val_accuracy: 0.9889\n",
            "Epoch 43/50\n",
            "26/26 [==============================] - 0s 3ms/step - loss: 3.0105e-04 - accuracy: 1.0000 - val_loss: 0.0173 - val_accuracy: 0.9889\n",
            "Epoch 44/50\n",
            "26/26 [==============================] - 0s 4ms/step - loss: 2.8359e-04 - accuracy: 1.0000 - val_loss: 0.0168 - val_accuracy: 0.9889\n",
            "Epoch 45/50\n",
            "26/26 [==============================] - 0s 4ms/step - loss: 2.7083e-04 - accuracy: 1.0000 - val_loss: 0.0169 - val_accuracy: 0.9889\n",
            "Epoch 46/50\n",
            "26/26 [==============================] - 0s 4ms/step - loss: 2.5514e-04 - accuracy: 1.0000 - val_loss: 0.0167 - val_accuracy: 0.9889\n",
            "Epoch 47/50\n",
            "26/26 [==============================] - 0s 3ms/step - loss: 2.4489e-04 - accuracy: 1.0000 - val_loss: 0.0174 - val_accuracy: 0.9889\n",
            "Epoch 48/50\n",
            "26/26 [==============================] - 0s 3ms/step - loss: 2.3495e-04 - accuracy: 1.0000 - val_loss: 0.0164 - val_accuracy: 0.9889\n",
            "Epoch 49/50\n",
            "26/26 [==============================] - 0s 3ms/step - loss: 2.2415e-04 - accuracy: 1.0000 - val_loss: 0.0166 - val_accuracy: 0.9889\n",
            "Epoch 50/50\n",
            "26/26 [==============================] - 0s 3ms/step - loss: 2.1044e-04 - accuracy: 1.0000 - val_loss: 0.0162 - val_accuracy: 0.9889\n"
          ]
        },
        {
          "output_type": "execute_result",
          "data": {
            "text/plain": [
              "[<matplotlib.lines.Line2D at 0x7f2360753730>]"
            ]
          },
          "metadata": {},
          "execution_count": 28
        },
        {
          "output_type": "display_data",
          "data": {
            "text/plain": [
              "<Figure size 432x288 with 1 Axes>"
            ],
            "image/png": "[encoded data removed]"
          },
          "metadata": {
            "needs_background": "light"
          }
        }
      ],
      "id": "Xq6YCP5L6n2h"
    },
    {
      "cell_type": "markdown",
      "source": [
        "for three hidden layers, convergence was attained at epoch 3"
      ],
      "metadata": {
        "id": "Ag9zEv5c8U78"
      },
      "id": "Ag9zEv5c8U78"
    },
    {
      "cell_type": "code",
      "source": [
        "loss, acc = model3.evaluate(X_test, y_test)\n",
        "print(\"Test loss:\", loss)\n",
        "print(\"Test Accuracy:\", acc)"
      ],
      "metadata": {
        "colab": {
          "base_uri": "https://localhost:8080/"
        },
        "id": "mho4mGC_lUh0",
        "outputId": "a8292204-f3e4-454a-c731-68739aa2a702"
      },
      "id": "mho4mGC_lUh0",
      "execution_count": 29,
      "outputs": [
        {
          "output_type": "stream",
          "name": "stdout",
          "text": [
            "29/29 [==============================] - 0s 2ms/step - loss: 0.0840 - accuracy: 0.9811\n",
            "Test loss: 0.0840168371796608\n",
            "Test Accuracy: 0.9810901284217834\n"
          ]
        }
      ]
    }
  ],
  "metadata": {
    "kernelspec": {
      "display_name": "Python 3",
      "language": "python",
      "name": "python3"
    },
    "language_info": {
      "codemirror_mode": {
        "name": "ipython",
        "version": 3
      },
      "file_extension": ".py",
      "mimetype": "text/x-python",
      "name": "python",
      "nbconvert_exporter": "python",
      "pygments_lexer": "ipython3",
      "version": "3.8.8"
    },
    "colab": {
      "provenance": [],
      "collapsed_sections": [
        "78a52342",
        "cce34d32",
        "637e0f60",
        "59169a8e"
      ],
      "include_colab_link": true
    },
    "accelerator": "GPU",
    "gpuClass": "premium"
  },
  "nbformat": 4,
  "nbformat_minor": 5
}